{
  "nbformat": 4,
  "nbformat_minor": 0,
  "metadata": {
    "colab": {
      "provenance": [],
      "authorship_tag": "ABX9TyNQj11VZKPtIcS4AzkA05X6",
      "include_colab_link": true
    },
    "kernelspec": {
      "name": "python3",
      "display_name": "Python 3"
    },
    "language_info": {
      "name": "python"
    }
  },
  "cells": [
    {
      "cell_type": "markdown",
      "metadata": {
        "id": "view-in-github",
        "colab_type": "text"
      },
      "source": [
        "<a href=\"https://colab.research.google.com/github/jumanajouhar/Basic-Python-for-Machine-Learning/blob/main/basic_python.ipynb\" target=\"_parent\"><img src=\"https://colab.research.google.com/assets/colab-badge.svg\" alt=\"Open In Colab\"/></a>"
      ]
    },
    {
      "cell_type": "markdown",
      "source": [],
      "metadata": {
        "id": "2G9Y28jD7MBs"
      }
    },
    {
      "cell_type": "markdown",
      "source": [
        "#Introduction to `Python`\n",
        "\n",
        "First Program: Displays a Hello"
      ],
      "metadata": {
        "id": "JoAFf5fU7Sxy"
      }
    },
    {
      "cell_type": "code",
      "source": [
        "print(\"Hello\")"
      ],
      "metadata": {
        "colab": {
          "base_uri": "https://localhost:8080/"
        },
        "id": "vtl57q6w77BE",
        "outputId": "cd7a8f6f-bb1c-4ac8-89d3-6ba49f9144d0"
      },
      "execution_count": 1,
      "outputs": [
        {
          "output_type": "stream",
          "name": "stdout",
          "text": [
            "Hello\n"
          ]
        }
      ]
    },
    {
      "cell_type": "markdown",
      "source": [
        ">Program to assign an integer and display it"
      ],
      "metadata": {
        "id": "-MvCJunJ9QJz"
      }
    },
    {
      "cell_type": "code",
      "source": [
        "a=10\n",
        "print(\"Value of the variable a is\",a)"
      ],
      "metadata": {
        "colab": {
          "base_uri": "https://localhost:8080/"
        },
        "id": "hYkqRvJm8p4b",
        "outputId": "4af17866-4f64-42a5-b275-3186ff1f3b6b"
      },
      "execution_count": 3,
      "outputs": [
        {
          "output_type": "stream",
          "name": "stdout",
          "text": [
            "Value of the variable a is 10\n"
          ]
        }
      ]
    },
    {
      "cell_type": "markdown",
      "source": [
        "Program to find sum of 2 numbers"
      ],
      "metadata": {
        "id": "QTPniVPX9pcL"
      }
    },
    {
      "cell_type": "code",
      "source": [
        "a=10\n",
        "b=5\n",
        "sum=a+b\n",
        "print(\"Sum of numbers is\",sum)"
      ],
      "metadata": {
        "colab": {
          "base_uri": "https://localhost:8080/"
        },
        "id": "WxpH5G_79tRD",
        "outputId": "6b4b273f-9b2c-4d69-b01f-7d3a20cc33de"
      },
      "execution_count": 6,
      "outputs": [
        {
          "output_type": "stream",
          "name": "stdout",
          "text": [
            "The sum of numbers is 15\n"
          ]
        }
      ]
    },
    {
      "cell_type": "markdown",
      "source": [
        "Read 2 numbers from the user and find the sum"
      ],
      "metadata": {
        "id": "gziFQdxE-Zus"
      }
    },
    {
      "cell_type": "code",
      "source": [
        "print(\"Enter the first number\")\n",
        "a=int(input())\n",
        "print(\"Enter the second number\")\n",
        "b=int(input())\n",
        "sum=a+b\n",
        "print(\"Sum of numbers is\",sum)"
      ],
      "metadata": {
        "colab": {
          "base_uri": "https://localhost:8080/"
        },
        "id": "ev8_vI1O_gap",
        "outputId": "0233dc8e-673c-45be-c49a-977e43d5c491"
      },
      "execution_count": 13,
      "outputs": [
        {
          "output_type": "stream",
          "name": "stdout",
          "text": [
            "Enter the first number\n",
            "5\n",
            "Enter the second number\n",
            "4\n",
            "Sum of numbers is 9\n"
          ]
        }
      ]
    },
    {
      "cell_type": "markdown",
      "source": [
        "OR"
      ],
      "metadata": {
        "id": "j5SSOe8NBMkj"
      }
    },
    {
      "cell_type": "code",
      "source": [
        "a=int(input(\"Enter the first number: \")) #input function reads values as strings. int() cast it to integer\n",
        "b=int(input(\"Enter the second number: \"))\n",
        "print(\"Sum of numbers is\",a+b)"
      ],
      "metadata": {
        "colab": {
          "base_uri": "https://localhost:8080/"
        },
        "id": "ihci6L5LAMmL",
        "outputId": "e8cc1ff3-81d7-4ba8-826c-86078131fce9"
      },
      "execution_count": 16,
      "outputs": [
        {
          "output_type": "stream",
          "name": "stdout",
          "text": [
            "Enter the first number: 5\n",
            "Enter the second number: 3\n",
            "Sum of numbers is 8\n"
          ]
        }
      ]
    }
  ]
}